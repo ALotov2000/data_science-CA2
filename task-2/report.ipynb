{
 "cells": [
  {
   "cell_type": "markdown",
   "id": "f95c7697323c470e",
   "metadata": {
    "collapsed": false,
    "jupyter": {
     "outputs_hidden": false
    }
   },
   "source": [
    "### Checking Chrome Driver"
   ]
  },
  {
   "cell_type": "code",
   "execution_count": 1,
   "id": "33d99120544ea3e6",
   "metadata": {
    "ExecuteTime": {
     "end_time": "2024-04-05T15:19:29.445604Z",
     "start_time": "2024-04-05T15:19:27.635839Z"
    },
    "collapsed": false,
    "jupyter": {
     "outputs_hidden": false
    }
   },
   "outputs": [],
   "source": [
    "## installing Chrome Driver\n",
    "from webdriver_manager.chrome import ChromeDriverManager\n",
    "ChromeDriverManager().install();"
   ]
  },
  {
   "cell_type": "markdown",
   "id": "549128032393174a",
   "metadata": {
    "collapsed": false,
    "jupyter": {
     "outputs_hidden": false
    }
   },
   "source": [
    "## Importing Universal Libraries"
   ]
  },
  {
   "cell_type": "code",
   "execution_count": 2,
   "id": "initial_id",
   "metadata": {
    "ExecuteTime": {
     "end_time": "2024-04-05T15:38:14.801085Z",
     "start_time": "2024-04-05T15:38:14.799077Z"
    }
   },
   "outputs": [],
   "source": [
    "import pandas as pd\n",
    "import matplotlib.pyplot as plt\n",
    "from scipy.stats import norm \n",
    "import numpy as np"
   ]
  },
  {
   "cell_type": "markdown",
   "id": "84ce2f78d4449763",
   "metadata": {
    "collapsed": false,
    "jupyter": {
     "outputs_hidden": false
    }
   },
   "source": [
    "## Reading Dataset"
   ]
  },
  {
   "cell_type": "code",
   "execution_count": 3,
   "id": "425e097450175e40",
   "metadata": {
    "ExecuteTime": {
     "end_time": "2024-04-05T15:19:29.873934Z",
     "start_time": "2024-04-05T15:19:29.859288Z"
    },
    "collapsed": false,
    "jupyter": {
     "outputs_hidden": false
    }
   },
   "outputs": [],
   "source": [
    "df = pd.read_csv('data/task2.csv')"
   ]
  },
  {
   "cell_type": "markdown",
   "id": "6ddb647b0c02de15",
   "metadata": {
    "collapsed": false,
    "jupyter": {
     "outputs_hidden": false
    }
   },
   "source": [
    "## Showing Information around the Dataset"
   ]
  },
  {
   "cell_type": "code",
   "execution_count": 4,
   "id": "38652ed7df2f9220",
   "metadata": {
    "ExecuteTime": {
     "end_time": "2024-04-05T15:19:29.884103Z",
     "start_time": "2024-04-05T15:19:29.874593Z"
    },
    "collapsed": false,
    "jupyter": {
     "outputs_hidden": false
    }
   },
   "outputs": [
    {
     "name": "stdout",
     "output_type": "stream",
     "text": [
      "<class 'pandas.core.frame.DataFrame'>\n",
      "RangeIndex: 13972 entries, 0 to 13971\n",
      "Data columns (total 8 columns):\n",
      " #   Column            Non-Null Count  Dtype \n",
      "---  ------            --------------  ----- \n",
      " 0   Work_Year         13972 non-null  int64 \n",
      " 1   Experience_Level  13972 non-null  object\n",
      " 2   Employment_Type   13972 non-null  object\n",
      " 3   Job_Title         13972 non-null  object\n",
      " 4   Salary            13972 non-null  int64 \n",
      " 5   Salary_Currency   13972 non-null  object\n",
      " 6   Remote_Ratio      13972 non-null  int64 \n",
      " 7   Company_Size      13972 non-null  object\n",
      "dtypes: int64(3), object(5)\n",
      "memory usage: 873.4+ KB\n"
     ]
    }
   ],
   "source": [
    "df.info()"
   ]
  },
  {
   "cell_type": "markdown",
   "id": "5ae2c9bbe2c861d",
   "metadata": {
    "collapsed": false,
    "jupyter": {
     "outputs_hidden": false
    }
   },
   "source": [
    "## Cleansing Dataset of Duplicates and NANs"
   ]
  },
  {
   "cell_type": "code",
   "execution_count": 5,
   "id": "d5d692f6366207ac",
   "metadata": {
    "ExecuteTime": {
     "end_time": "2024-04-05T15:19:29.896795Z",
     "start_time": "2024-04-05T15:19:29.885693Z"
    },
    "collapsed": false,
    "jupyter": {
     "outputs_hidden": false
    }
   },
   "outputs": [],
   "source": [
    "cleansed_df = df.drop_duplicates()\n",
    "cleansed_df = cleansed_df.dropna()"
   ]
  },
  {
   "cell_type": "code",
   "execution_count": 6,
   "id": "5c0a7f07ec3760dd",
   "metadata": {
    "ExecuteTime": {
     "end_time": "2024-04-05T15:19:29.904396Z",
     "start_time": "2024-04-05T15:19:29.897896Z"
    },
    "collapsed": false,
    "jupyter": {
     "outputs_hidden": false
    }
   },
   "outputs": [
    {
     "name": "stdout",
     "output_type": "stream",
     "text": [
      "<class 'pandas.core.frame.DataFrame'>\n",
      "Index: 8407 entries, 0 to 13971\n",
      "Data columns (total 8 columns):\n",
      " #   Column            Non-Null Count  Dtype \n",
      "---  ------            --------------  ----- \n",
      " 0   Work_Year         8407 non-null   int64 \n",
      " 1   Experience_Level  8407 non-null   object\n",
      " 2   Employment_Type   8407 non-null   object\n",
      " 3   Job_Title         8407 non-null   object\n",
      " 4   Salary            8407 non-null   int64 \n",
      " 5   Salary_Currency   8407 non-null   object\n",
      " 6   Remote_Ratio      8407 non-null   int64 \n",
      " 7   Company_Size      8407 non-null   object\n",
      "dtypes: int64(3), object(5)\n",
      "memory usage: 591.1+ KB\n"
     ]
    }
   ],
   "source": [
    "cleansed_df.info()"
   ]
  },
  {
   "cell_type": "markdown",
   "id": "5a514e497efe1b21",
   "metadata": {
    "collapsed": false,
    "jupyter": {
     "outputs_hidden": false
    }
   },
   "source": [
    "## Extracting All Currencies in the Dataset"
   ]
  },
  {
   "cell_type": "code",
   "execution_count": 7,
   "id": "cf8148b9b5dca636",
   "metadata": {
    "ExecuteTime": {
     "end_time": "2024-04-05T15:19:29.912465Z",
     "start_time": "2024-04-05T15:19:29.905176Z"
    },
    "collapsed": false,
    "jupyter": {
     "outputs_hidden": false
    }
   },
   "outputs": [
    {
     "data": {
      "text/html": [
       "<div>\n",
       "<style scoped>\n",
       "    .dataframe tbody tr th:only-of-type {\n",
       "        vertical-align: middle;\n",
       "    }\n",
       "\n",
       "    .dataframe tbody tr th {\n",
       "        vertical-align: top;\n",
       "    }\n",
       "\n",
       "    .dataframe thead th {\n",
       "        text-align: right;\n",
       "    }\n",
       "</style>\n",
       "<table border=\"1\" class=\"dataframe\">\n",
       "  <thead>\n",
       "    <tr style=\"text-align: right;\">\n",
       "      <th></th>\n",
       "      <th>Salary_Currency</th>\n",
       "      <th>Count</th>\n",
       "    </tr>\n",
       "  </thead>\n",
       "  <tbody>\n",
       "    <tr>\n",
       "      <th>0</th>\n",
       "      <td>AUD</td>\n",
       "      <td>12</td>\n",
       "    </tr>\n",
       "    <tr>\n",
       "      <th>1</th>\n",
       "      <td>BRL</td>\n",
       "      <td>4</td>\n",
       "    </tr>\n",
       "    <tr>\n",
       "      <th>2</th>\n",
       "      <td>CAD</td>\n",
       "      <td>48</td>\n",
       "    </tr>\n",
       "    <tr>\n",
       "      <th>3</th>\n",
       "      <td>CHF</td>\n",
       "      <td>6</td>\n",
       "    </tr>\n",
       "    <tr>\n",
       "      <th>4</th>\n",
       "      <td>CLP</td>\n",
       "      <td>1</td>\n",
       "    </tr>\n",
       "    <tr>\n",
       "      <th>5</th>\n",
       "      <td>DKK</td>\n",
       "      <td>3</td>\n",
       "    </tr>\n",
       "    <tr>\n",
       "      <th>6</th>\n",
       "      <td>EUR</td>\n",
       "      <td>339</td>\n",
       "    </tr>\n",
       "    <tr>\n",
       "      <th>7</th>\n",
       "      <td>GBP</td>\n",
       "      <td>410</td>\n",
       "    </tr>\n",
       "    <tr>\n",
       "      <th>8</th>\n",
       "      <td>HKD</td>\n",
       "      <td>1</td>\n",
       "    </tr>\n",
       "    <tr>\n",
       "      <th>9</th>\n",
       "      <td>HUF</td>\n",
       "      <td>3</td>\n",
       "    </tr>\n",
       "    <tr>\n",
       "      <th>10</th>\n",
       "      <td>ILS</td>\n",
       "      <td>1</td>\n",
       "    </tr>\n",
       "    <tr>\n",
       "      <th>11</th>\n",
       "      <td>INR</td>\n",
       "      <td>52</td>\n",
       "    </tr>\n",
       "    <tr>\n",
       "      <th>12</th>\n",
       "      <td>JPY</td>\n",
       "      <td>4</td>\n",
       "    </tr>\n",
       "    <tr>\n",
       "      <th>13</th>\n",
       "      <td>MXN</td>\n",
       "      <td>1</td>\n",
       "    </tr>\n",
       "    <tr>\n",
       "      <th>14</th>\n",
       "      <td>NOK</td>\n",
       "      <td>2</td>\n",
       "    </tr>\n",
       "    <tr>\n",
       "      <th>15</th>\n",
       "      <td>NZD</td>\n",
       "      <td>1</td>\n",
       "    </tr>\n",
       "    <tr>\n",
       "      <th>16</th>\n",
       "      <td>PHP</td>\n",
       "      <td>1</td>\n",
       "    </tr>\n",
       "    <tr>\n",
       "      <th>17</th>\n",
       "      <td>PLN</td>\n",
       "      <td>7</td>\n",
       "    </tr>\n",
       "    <tr>\n",
       "      <th>18</th>\n",
       "      <td>SGD</td>\n",
       "      <td>6</td>\n",
       "    </tr>\n",
       "    <tr>\n",
       "      <th>19</th>\n",
       "      <td>THB</td>\n",
       "      <td>2</td>\n",
       "    </tr>\n",
       "    <tr>\n",
       "      <th>20</th>\n",
       "      <td>TRY</td>\n",
       "      <td>3</td>\n",
       "    </tr>\n",
       "    <tr>\n",
       "      <th>21</th>\n",
       "      <td>USD</td>\n",
       "      <td>7499</td>\n",
       "    </tr>\n",
       "    <tr>\n",
       "      <th>22</th>\n",
       "      <td>ZAR</td>\n",
       "      <td>1</td>\n",
       "    </tr>\n",
       "  </tbody>\n",
       "</table>\n",
       "</div>"
      ],
      "text/plain": [
       "   Salary_Currency  Count\n",
       "0              AUD     12\n",
       "1              BRL      4\n",
       "2              CAD     48\n",
       "3              CHF      6\n",
       "4              CLP      1\n",
       "5              DKK      3\n",
       "6              EUR    339\n",
       "7              GBP    410\n",
       "8              HKD      1\n",
       "9              HUF      3\n",
       "10             ILS      1\n",
       "11             INR     52\n",
       "12             JPY      4\n",
       "13             MXN      1\n",
       "14             NOK      2\n",
       "15             NZD      1\n",
       "16             PHP      1\n",
       "17             PLN      7\n",
       "18             SGD      6\n",
       "19             THB      2\n",
       "20             TRY      3\n",
       "21             USD   7499\n",
       "22             ZAR      1"
      ]
     },
     "execution_count": 7,
     "metadata": {},
     "output_type": "execute_result"
    }
   ],
   "source": [
    "value_counts = cleansed_df.groupby('Salary_Currency').size()\n",
    "value_counts = value_counts.reset_index()\n",
    "value_counts.columns = ['Salary_Currency', 'Count']\n",
    "value_counts"
   ]
  },
  {
   "cell_type": "markdown",
   "id": "e4e85fcc24c12f57",
   "metadata": {
    "collapsed": false,
    "jupyter": {
     "outputs_hidden": false
    }
   },
   "source": [
    "## Dropping Entries with Minor Currencies"
   ]
  },
  {
   "cell_type": "code",
   "execution_count": 8,
   "id": "2d5a917bc94e4f43",
   "metadata": {
    "ExecuteTime": {
     "end_time": "2024-04-05T15:19:29.924059Z",
     "start_time": "2024-04-05T15:19:29.913216Z"
    },
    "collapsed": false,
    "jupyter": {
     "outputs_hidden": false
    }
   },
   "outputs": [
    {
     "data": {
      "text/html": [
       "<div>\n",
       "<style scoped>\n",
       "    .dataframe tbody tr th:only-of-type {\n",
       "        vertical-align: middle;\n",
       "    }\n",
       "\n",
       "    .dataframe tbody tr th {\n",
       "        vertical-align: top;\n",
       "    }\n",
       "\n",
       "    .dataframe thead th {\n",
       "        text-align: right;\n",
       "    }\n",
       "</style>\n",
       "<table border=\"1\" class=\"dataframe\">\n",
       "  <thead>\n",
       "    <tr style=\"text-align: right;\">\n",
       "      <th></th>\n",
       "      <th>Work_Year</th>\n",
       "      <th>Experience_Level</th>\n",
       "      <th>Employment_Type</th>\n",
       "      <th>Job_Title</th>\n",
       "      <th>Salary</th>\n",
       "      <th>Salary_Currency</th>\n",
       "      <th>Remote_Ratio</th>\n",
       "      <th>Company_Size</th>\n",
       "    </tr>\n",
       "  </thead>\n",
       "  <tbody>\n",
       "    <tr>\n",
       "      <th>0</th>\n",
       "      <td>2024</td>\n",
       "      <td>Senior-Level</td>\n",
       "      <td>Full-Time</td>\n",
       "      <td>AI Engineer</td>\n",
       "      <td>90000</td>\n",
       "      <td>USD</td>\n",
       "      <td>0</td>\n",
       "      <td>Large</td>\n",
       "    </tr>\n",
       "    <tr>\n",
       "      <th>1</th>\n",
       "      <td>2024</td>\n",
       "      <td>Senior-Level</td>\n",
       "      <td>Full-Time</td>\n",
       "      <td>Machine Learning Engineer</td>\n",
       "      <td>180500</td>\n",
       "      <td>USD</td>\n",
       "      <td>0</td>\n",
       "      <td>Medium</td>\n",
       "    </tr>\n",
       "    <tr>\n",
       "      <th>2</th>\n",
       "      <td>2024</td>\n",
       "      <td>Senior-Level</td>\n",
       "      <td>Full-Time</td>\n",
       "      <td>Machine Learning Engineer</td>\n",
       "      <td>96200</td>\n",
       "      <td>USD</td>\n",
       "      <td>0</td>\n",
       "      <td>Medium</td>\n",
       "    </tr>\n",
       "    <tr>\n",
       "      <th>3</th>\n",
       "      <td>2024</td>\n",
       "      <td>Senior-Level</td>\n",
       "      <td>Full-Time</td>\n",
       "      <td>Machine Learning Engineer</td>\n",
       "      <td>235000</td>\n",
       "      <td>USD</td>\n",
       "      <td>0</td>\n",
       "      <td>Medium</td>\n",
       "    </tr>\n",
       "    <tr>\n",
       "      <th>4</th>\n",
       "      <td>2024</td>\n",
       "      <td>Senior-Level</td>\n",
       "      <td>Full-Time</td>\n",
       "      <td>Machine Learning Engineer</td>\n",
       "      <td>175000</td>\n",
       "      <td>USD</td>\n",
       "      <td>0</td>\n",
       "      <td>Medium</td>\n",
       "    </tr>\n",
       "    <tr>\n",
       "      <th>...</th>\n",
       "      <td>...</td>\n",
       "      <td>...</td>\n",
       "      <td>...</td>\n",
       "      <td>...</td>\n",
       "      <td>...</td>\n",
       "      <td>...</td>\n",
       "      <td>...</td>\n",
       "      <td>...</td>\n",
       "    </tr>\n",
       "    <tr>\n",
       "      <th>13967</th>\n",
       "      <td>2020</td>\n",
       "      <td>Senior-Level</td>\n",
       "      <td>Full-Time</td>\n",
       "      <td>Data Scientist</td>\n",
       "      <td>412000</td>\n",
       "      <td>USD</td>\n",
       "      <td>100</td>\n",
       "      <td>Large</td>\n",
       "    </tr>\n",
       "    <tr>\n",
       "      <th>13968</th>\n",
       "      <td>2021</td>\n",
       "      <td>Mid-Level</td>\n",
       "      <td>Full-Time</td>\n",
       "      <td>Principal Data Scientist</td>\n",
       "      <td>151000</td>\n",
       "      <td>USD</td>\n",
       "      <td>100</td>\n",
       "      <td>Large</td>\n",
       "    </tr>\n",
       "    <tr>\n",
       "      <th>13969</th>\n",
       "      <td>2020</td>\n",
       "      <td>Entry-Level</td>\n",
       "      <td>Full-Time</td>\n",
       "      <td>Data Scientist</td>\n",
       "      <td>105000</td>\n",
       "      <td>USD</td>\n",
       "      <td>100</td>\n",
       "      <td>S</td>\n",
       "    </tr>\n",
       "    <tr>\n",
       "      <th>13970</th>\n",
       "      <td>2020</td>\n",
       "      <td>Entry-Level</td>\n",
       "      <td>Contract</td>\n",
       "      <td>Business Data Analyst</td>\n",
       "      <td>100000</td>\n",
       "      <td>USD</td>\n",
       "      <td>100</td>\n",
       "      <td>Large</td>\n",
       "    </tr>\n",
       "    <tr>\n",
       "      <th>13971</th>\n",
       "      <td>2021</td>\n",
       "      <td>Senior-Level</td>\n",
       "      <td>Full-Time</td>\n",
       "      <td>Data Science Manager</td>\n",
       "      <td>7000000</td>\n",
       "      <td>INR</td>\n",
       "      <td>50</td>\n",
       "      <td>Large</td>\n",
       "    </tr>\n",
       "  </tbody>\n",
       "</table>\n",
       "<p>8360 rows × 8 columns</p>\n",
       "</div>"
      ],
      "text/plain": [
       "       Work_Year Experience_Level Employment_Type                  Job_Title  \\\n",
       "0           2024     Senior-Level       Full-Time                AI Engineer   \n",
       "1           2024     Senior-Level       Full-Time  Machine Learning Engineer   \n",
       "2           2024     Senior-Level       Full-Time  Machine Learning Engineer   \n",
       "3           2024     Senior-Level       Full-Time  Machine Learning Engineer   \n",
       "4           2024     Senior-Level       Full-Time  Machine Learning Engineer   \n",
       "...          ...              ...             ...                        ...   \n",
       "13967       2020     Senior-Level       Full-Time             Data Scientist   \n",
       "13968       2021        Mid-Level       Full-Time   Principal Data Scientist   \n",
       "13969       2020      Entry-Level       Full-Time             Data Scientist   \n",
       "13970       2020      Entry-Level        Contract      Business Data Analyst   \n",
       "13971       2021     Senior-Level       Full-Time       Data Science Manager   \n",
       "\n",
       "        Salary Salary_Currency  Remote_Ratio Company_Size  \n",
       "0        90000             USD             0        Large  \n",
       "1       180500             USD             0       Medium  \n",
       "2        96200             USD             0       Medium  \n",
       "3       235000             USD             0       Medium  \n",
       "4       175000             USD             0       Medium  \n",
       "...        ...             ...           ...          ...  \n",
       "13967   412000             USD           100        Large  \n",
       "13968   151000             USD           100        Large  \n",
       "13969   105000             USD           100            S  \n",
       "13970   100000             USD           100        Large  \n",
       "13971  7000000             INR            50        Large  \n",
       "\n",
       "[8360 rows x 8 columns]"
      ]
     },
     "execution_count": 8,
     "metadata": {},
     "output_type": "execute_result"
    }
   ],
   "source": [
    "filter_indexes = cleansed_df['Salary_Currency'].isin(value_counts[value_counts['Count'] >= 10]['Salary_Currency'])\n",
    "filtered_df = cleansed_df[filter_indexes]\n",
    "filtered_df"
   ]
  },
  {
   "cell_type": "code",
   "execution_count": 9,
   "id": "1695b5866499667",
   "metadata": {
    "ExecuteTime": {
     "end_time": "2024-04-05T15:19:29.929793Z",
     "start_time": "2024-04-05T15:19:29.924960Z"
    },
    "collapsed": false,
    "jupyter": {
     "outputs_hidden": false
    }
   },
   "outputs": [
    {
     "data": {
      "text/plain": [
       "Salary_Currency\n",
       "USD    7499\n",
       "GBP     410\n",
       "EUR     339\n",
       "INR      52\n",
       "CAD      48\n",
       "AUD      12\n",
       "Name: count, dtype: int64"
      ]
     },
     "execution_count": 9,
     "metadata": {},
     "output_type": "execute_result"
    }
   ],
   "source": [
    "filtered_df['Salary_Currency'].value_counts()"
   ]
  },
  {
   "cell_type": "markdown",
   "id": "af52a5e4c1524c7a",
   "metadata": {
    "collapsed": false,
    "jupyter": {
     "outputs_hidden": false
    }
   },
   "source": [
    "## Adding a Column to the Dataset Regarding Salaries in USD"
   ]
  },
  {
   "cell_type": "code",
   "execution_count": 10,
   "id": "8512759c31c0bc31",
   "metadata": {
    "ExecuteTime": {
     "end_time": "2024-04-05T15:19:57.509958Z",
     "start_time": "2024-04-05T15:19:29.930743Z"
    },
    "collapsed": false,
    "jupyter": {
     "outputs_hidden": false
    }
   },
   "outputs": [],
   "source": [
    "from task2.currency import find_exchange_rate\n",
    "\n",
    "exchange_rates = {}\n",
    "for currency in filtered_df['Salary_Currency'].unique():\n",
    "    exchange_rates[currency] = find_exchange_rate(currency)"
   ]
  },
  {
   "cell_type": "code",
   "execution_count": 11,
   "id": "707ae0cdc2f52d4f",
   "metadata": {
    "ExecuteTime": {
     "end_time": "2024-04-05T15:19:57.517902Z",
     "start_time": "2024-04-05T15:19:57.511769Z"
    },
    "collapsed": false,
    "jupyter": {
     "outputs_hidden": false
    }
   },
   "outputs": [
    {
     "data": {
      "text/plain": [
       "{'USD': 1, 'EUR': 108.0, 'GBP': 126.0, 'CAD': 74.0, 'AUD': 66.0, 'INR': 12.0}"
      ]
     },
     "execution_count": 11,
     "metadata": {},
     "output_type": "execute_result"
    }
   ],
   "source": [
    "exchange_rates"
   ]
  },
  {
   "cell_type": "code",
   "execution_count": 12,
   "id": "ca7f3189934985c5",
   "metadata": {
    "ExecuteTime": {
     "end_time": "2024-04-05T15:19:57.567740Z",
     "start_time": "2024-04-05T15:19:57.519633Z"
    },
    "collapsed": false,
    "jupyter": {
     "outputs_hidden": false
    }
   },
   "outputs": [
    {
     "name": "stderr",
     "output_type": "stream",
     "text": [
      "C:\\Users\\AFRAA\\AppData\\Local\\Temp\\ipykernel_21856\\1824344305.py:1: SettingWithCopyWarning: \n",
      "A value is trying to be set on a copy of a slice from a DataFrame.\n",
      "Try using .loc[row_indexer,col_indexer] = value instead\n",
      "\n",
      "See the caveats in the documentation: https://pandas.pydata.org/pandas-docs/stable/user_guide/indexing.html#returning-a-view-versus-a-copy\n",
      "  filtered_df.loc[:, \"Salary_in_USD\"] = filtered_df.apply(\n"
     ]
    },
    {
     "data": {
      "text/html": [
       "<div>\n",
       "<style scoped>\n",
       "    .dataframe tbody tr th:only-of-type {\n",
       "        vertical-align: middle;\n",
       "    }\n",
       "\n",
       "    .dataframe tbody tr th {\n",
       "        vertical-align: top;\n",
       "    }\n",
       "\n",
       "    .dataframe thead th {\n",
       "        text-align: right;\n",
       "    }\n",
       "</style>\n",
       "<table border=\"1\" class=\"dataframe\">\n",
       "  <thead>\n",
       "    <tr style=\"text-align: right;\">\n",
       "      <th></th>\n",
       "      <th>Work_Year</th>\n",
       "      <th>Experience_Level</th>\n",
       "      <th>Employment_Type</th>\n",
       "      <th>Job_Title</th>\n",
       "      <th>Salary</th>\n",
       "      <th>Salary_Currency</th>\n",
       "      <th>Remote_Ratio</th>\n",
       "      <th>Company_Size</th>\n",
       "      <th>Salary_in_USD</th>\n",
       "    </tr>\n",
       "  </thead>\n",
       "  <tbody>\n",
       "    <tr>\n",
       "      <th>29</th>\n",
       "      <td>2024</td>\n",
       "      <td>Entry-Level</td>\n",
       "      <td>Full-Time</td>\n",
       "      <td>Data Analyst</td>\n",
       "      <td>39600</td>\n",
       "      <td>EUR</td>\n",
       "      <td>0</td>\n",
       "      <td>Medium</td>\n",
       "      <td>4276800.0</td>\n",
       "    </tr>\n",
       "    <tr>\n",
       "      <th>30</th>\n",
       "      <td>2024</td>\n",
       "      <td>Entry-Level</td>\n",
       "      <td>Full-Time</td>\n",
       "      <td>Data Analyst</td>\n",
       "      <td>33600</td>\n",
       "      <td>EUR</td>\n",
       "      <td>0</td>\n",
       "      <td>Medium</td>\n",
       "      <td>3628800.0</td>\n",
       "    </tr>\n",
       "    <tr>\n",
       "      <th>143</th>\n",
       "      <td>2024</td>\n",
       "      <td>Senior-Level</td>\n",
       "      <td>Full-Time</td>\n",
       "      <td>Data Quality Analyst</td>\n",
       "      <td>80000</td>\n",
       "      <td>GBP</td>\n",
       "      <td>0</td>\n",
       "      <td>Medium</td>\n",
       "      <td>10080000.0</td>\n",
       "    </tr>\n",
       "    <tr>\n",
       "      <th>144</th>\n",
       "      <td>2024</td>\n",
       "      <td>Senior-Level</td>\n",
       "      <td>Full-Time</td>\n",
       "      <td>Data Quality Analyst</td>\n",
       "      <td>45000</td>\n",
       "      <td>GBP</td>\n",
       "      <td>0</td>\n",
       "      <td>Medium</td>\n",
       "      <td>5670000.0</td>\n",
       "    </tr>\n",
       "    <tr>\n",
       "      <th>243</th>\n",
       "      <td>2023</td>\n",
       "      <td>Entry-Level</td>\n",
       "      <td>Full-Time</td>\n",
       "      <td>Data DevOps Engineer</td>\n",
       "      <td>44382</td>\n",
       "      <td>EUR</td>\n",
       "      <td>50</td>\n",
       "      <td>Large</td>\n",
       "      <td>4793256.0</td>\n",
       "    </tr>\n",
       "    <tr>\n",
       "      <th>...</th>\n",
       "      <td>...</td>\n",
       "      <td>...</td>\n",
       "      <td>...</td>\n",
       "      <td>...</td>\n",
       "      <td>...</td>\n",
       "      <td>...</td>\n",
       "      <td>...</td>\n",
       "      <td>...</td>\n",
       "      <td>...</td>\n",
       "    </tr>\n",
       "    <tr>\n",
       "      <th>13952</th>\n",
       "      <td>2021</td>\n",
       "      <td>Mid-Level</td>\n",
       "      <td>Full-Time</td>\n",
       "      <td>Lead Data Analyst</td>\n",
       "      <td>1450000</td>\n",
       "      <td>INR</td>\n",
       "      <td>100</td>\n",
       "      <td>Large</td>\n",
       "      <td>17400000.0</td>\n",
       "    </tr>\n",
       "    <tr>\n",
       "      <th>13956</th>\n",
       "      <td>2021</td>\n",
       "      <td>Mid-Level</td>\n",
       "      <td>Full-Time</td>\n",
       "      <td>Data Engineer</td>\n",
       "      <td>38400</td>\n",
       "      <td>EUR</td>\n",
       "      <td>100</td>\n",
       "      <td>Large</td>\n",
       "      <td>4147200.0</td>\n",
       "    </tr>\n",
       "    <tr>\n",
       "      <th>13961</th>\n",
       "      <td>2020</td>\n",
       "      <td>Senior-Level</td>\n",
       "      <td>Full-Time</td>\n",
       "      <td>Machine Learning Engineer</td>\n",
       "      <td>40000</td>\n",
       "      <td>EUR</td>\n",
       "      <td>100</td>\n",
       "      <td>S</td>\n",
       "      <td>4320000.0</td>\n",
       "    </tr>\n",
       "    <tr>\n",
       "      <th>13965</th>\n",
       "      <td>2021</td>\n",
       "      <td>Mid-Level</td>\n",
       "      <td>Full-Time</td>\n",
       "      <td>Data Engineer</td>\n",
       "      <td>24000</td>\n",
       "      <td>EUR</td>\n",
       "      <td>50</td>\n",
       "      <td>Large</td>\n",
       "      <td>2592000.0</td>\n",
       "    </tr>\n",
       "    <tr>\n",
       "      <th>13971</th>\n",
       "      <td>2021</td>\n",
       "      <td>Senior-Level</td>\n",
       "      <td>Full-Time</td>\n",
       "      <td>Data Science Manager</td>\n",
       "      <td>7000000</td>\n",
       "      <td>INR</td>\n",
       "      <td>50</td>\n",
       "      <td>Large</td>\n",
       "      <td>84000000.0</td>\n",
       "    </tr>\n",
       "  </tbody>\n",
       "</table>\n",
       "<p>861 rows × 9 columns</p>\n",
       "</div>"
      ],
      "text/plain": [
       "       Work_Year Experience_Level Employment_Type                  Job_Title  \\\n",
       "29          2024      Entry-Level       Full-Time               Data Analyst   \n",
       "30          2024      Entry-Level       Full-Time               Data Analyst   \n",
       "143         2024     Senior-Level       Full-Time       Data Quality Analyst   \n",
       "144         2024     Senior-Level       Full-Time       Data Quality Analyst   \n",
       "243         2023      Entry-Level       Full-Time       Data DevOps Engineer   \n",
       "...          ...              ...             ...                        ...   \n",
       "13952       2021        Mid-Level       Full-Time          Lead Data Analyst   \n",
       "13956       2021        Mid-Level       Full-Time              Data Engineer   \n",
       "13961       2020     Senior-Level       Full-Time  Machine Learning Engineer   \n",
       "13965       2021        Mid-Level       Full-Time              Data Engineer   \n",
       "13971       2021     Senior-Level       Full-Time       Data Science Manager   \n",
       "\n",
       "        Salary Salary_Currency  Remote_Ratio Company_Size  Salary_in_USD  \n",
       "29       39600             EUR             0       Medium      4276800.0  \n",
       "30       33600             EUR             0       Medium      3628800.0  \n",
       "143      80000             GBP             0       Medium     10080000.0  \n",
       "144      45000             GBP             0       Medium      5670000.0  \n",
       "243      44382             EUR            50        Large      4793256.0  \n",
       "...        ...             ...           ...          ...            ...  \n",
       "13952  1450000             INR           100        Large     17400000.0  \n",
       "13956    38400             EUR           100        Large      4147200.0  \n",
       "13961    40000             EUR           100            S      4320000.0  \n",
       "13965    24000             EUR            50        Large      2592000.0  \n",
       "13971  7000000             INR            50        Large     84000000.0  \n",
       "\n",
       "[861 rows x 9 columns]"
      ]
     },
     "execution_count": 12,
     "metadata": {},
     "output_type": "execute_result"
    }
   ],
   "source": [
    "filtered_df.loc[:, \"Salary_in_USD\"] = filtered_df.apply(\n",
    "    lambda entry: exchange_rates[entry['Salary_Currency']] * entry['Salary'], \n",
    "    axis=1)\n",
    "filtered_df[filtered_df['Salary_Currency'] != 'USD']"
   ]
  },
  {
   "cell_type": "markdown",
   "id": "67abee208cf836d0",
   "metadata": {
    "collapsed": false,
    "jupyter": {
     "outputs_hidden": false
    }
   },
   "source": [
    "## Visualizations"
   ]
  },
  {
   "cell_type": "code",
   "execution_count": 13,
   "id": "7f5809917efaf56d",
   "metadata": {
    "ExecuteTime": {
     "end_time": "2024-04-05T15:19:57.570412Z",
     "start_time": "2024-04-05T15:19:57.568607Z"
    },
    "collapsed": false,
    "jupyter": {
     "outputs_hidden": false
    }
   },
   "outputs": [],
   "source": [
    "finalized_df = filtered_df"
   ]
  },
  {
   "cell_type": "markdown",
   "id": "7889c1f324aa95b",
   "metadata": {
    "collapsed": false,
    "jupyter": {
     "outputs_hidden": false
    }
   },
   "source": [
    "### Histogram of All Salaries"
   ]
  },
  {
   "cell_type": "code",
   "execution_count": 14,
   "id": "782ecc94b9c546a0",
   "metadata": {
    "ExecuteTime": {
     "end_time": "2024-04-05T15:19:57.697791Z",
     "start_time": "2024-04-05T15:19:57.572189Z"
    },
    "collapsed": false,
    "jupyter": {
     "outputs_hidden": false
    }
   },
   "outputs": [
    {
     "data": {
      "image/png": "[encoded data removed]",
      "text/plain": [
       "<Figure size 640x480 with 1 Axes>"
      ]
     },
     "metadata": {},
     "output_type": "display_data"
    }
   ],
   "source": [
    "plt.figure()\n",
    "finalized_df['Salary_in_USD'].hist(bins=20, edgecolor='black')\n",
    "plt.grid(False)\n",
    "plt.show()"
   ]
  },
  {
   "cell_type": "markdown",
   "id": "93988f13b0e0d4d1",
   "metadata": {
    "collapsed": false,
    "jupyter": {
     "outputs_hidden": false
    }
   },
   "source": [
    "### Histogram of Salaries for Each Experience Level"
   ]
  },
  {
   "cell_type": "code",
   "execution_count": 15,
   "id": "f9ac44db1088eeb2",
   "metadata": {
    "ExecuteTime": {
     "end_time": "2024-04-05T15:56:30.551721Z",
     "start_time": "2024-04-05T15:56:30.185351Z"
    },
    "collapsed": false,
    "jupyter": {
     "outputs_hidden": false
    }
   },
   "outputs": [
    {
     "data": {
      "image/png": "[encoded data removed]",
      "text/plain": [
       "<Figure size 640x480 with 1 Axes>"
      ]
     },
     "metadata": {},
     "output_type": "display_data"
    },
    {
     "data": {
      "image/png": "[encoded data removed]",
      "text/plain": [
       "<Figure size 640x480 with 1 Axes>"
      ]
     },
     "metadata": {},
     "output_type": "display_data"
    },
    {
     "data": {
      "image/png": "[encoded data removed]",
      "text/plain": [
       "<Figure size 640x480 with 1 Axes>"
      ]
     },
     "metadata": {},
     "output_type": "display_data"
    },
    {
     "data": {
      "image/png": "[encoded data removed]",
      "text/plain": [
       "<Figure size 640x480 with 1 Axes>"
      ]
     },
     "metadata": {},
     "output_type": "display_data"
    }
   ],
   "source": [
    "xmin, xmax = finalized_df['Salary_in_USD'].min(), finalized_df['Salary_in_USD'].max()\n",
    "for experience, group in finalized_df.groupby('Experience_Level'):\n",
    "    data = group['Salary_in_USD']\n",
    "    plt.figure()\n",
    "    plt.hist(data, bins=20, alpha=0.5, edgecolor='black', label=experience)\n",
    "    plt.legend()\n",
    "    plt.xlim(xmin, xmax)\n",
    "plt.show()"
   ]
  },
  {
   "cell_type": "markdown",
   "id": "6efb378c70fbe12c",
   "metadata": {
    "collapsed": false,
    "jupyter": {
     "outputs_hidden": false
    }
   },
   "source": [
    "### 10 Most Popular Job Titles\n",
    "\n",
    "10 most popular job titles are listed below."
   ]
  },
  {
   "cell_type": "code",
   "execution_count": 16,
   "id": "9ae518a332d25e22",
   "metadata": {
    "ExecuteTime": {
     "end_time": "2024-04-05T16:18:14.718272Z",
     "start_time": "2024-04-05T16:18:14.614875Z"
    },
    "collapsed": false,
    "jupyter": {
     "outputs_hidden": false
    }
   },
   "outputs": [
    {
     "data": {
      "image/png": "[encoded data removed]",
      "text/plain": [
       "<Figure size 640x480 with 1 Axes>"
      ]
     },
     "metadata": {},
     "output_type": "display_data"
    }
   ],
   "source": [
    "data = finalized_df['Job_Title'].value_counts().sort_values(ascending=False)[:10]\n",
    "data = data[::-1]\n",
    "plt.barh(data.index, data, edgecolor='black')\n",
    "plt.show()"
   ]
  },
  {
   "cell_type": "markdown",
   "id": "3c42b5cf7e62ddfe",
   "metadata": {
    "collapsed": false,
    "jupyter": {
     "outputs_hidden": false
    }
   },
   "source": [
    "### Top 10 Highest Salaries\n",
    "Top ten highest salaries and the entry corresponding to them are listed below."
   ]
  },
  {
   "cell_type": "code",
   "execution_count": 17,
   "id": "c17701b728c1d5f0",
   "metadata": {
    "ExecuteTime": {
     "end_time": "2024-04-05T16:11:04.568701Z",
     "start_time": "2024-04-05T16:11:04.561056Z"
    },
    "collapsed": false,
    "jupyter": {
     "outputs_hidden": false
    }
   },
   "outputs": [
    {
     "data": {
      "text/html": [
       "<div>\n",
       "<style scoped>\n",
       "    .dataframe tbody tr th:only-of-type {\n",
       "        vertical-align: middle;\n",
       "    }\n",
       "\n",
       "    .dataframe tbody tr th {\n",
       "        vertical-align: top;\n",
       "    }\n",
       "\n",
       "    .dataframe thead th {\n",
       "        text-align: right;\n",
       "    }\n",
       "</style>\n",
       "<table border=\"1\" class=\"dataframe\">\n",
       "  <thead>\n",
       "    <tr style=\"text-align: right;\">\n",
       "      <th></th>\n",
       "      <th>Work_Year</th>\n",
       "      <th>Experience_Level</th>\n",
       "      <th>Employment_Type</th>\n",
       "      <th>Job_Title</th>\n",
       "      <th>Salary</th>\n",
       "      <th>Salary_Currency</th>\n",
       "      <th>Remote_Ratio</th>\n",
       "      <th>Company_Size</th>\n",
       "      <th>Salary_in_USD</th>\n",
       "    </tr>\n",
       "  </thead>\n",
       "  <tbody>\n",
       "    <tr>\n",
       "      <th>13206</th>\n",
       "      <td>2022</td>\n",
       "      <td>Senior-Level</td>\n",
       "      <td>Full-Time</td>\n",
       "      <td>Lead Machine Learning Engineer</td>\n",
       "      <td>7500000</td>\n",
       "      <td>INR</td>\n",
       "      <td>50</td>\n",
       "      <td>Large</td>\n",
       "      <td>90000000.0</td>\n",
       "    </tr>\n",
       "    <tr>\n",
       "      <th>13971</th>\n",
       "      <td>2021</td>\n",
       "      <td>Senior-Level</td>\n",
       "      <td>Full-Time</td>\n",
       "      <td>Data Science Manager</td>\n",
       "      <td>7000000</td>\n",
       "      <td>INR</td>\n",
       "      <td>50</td>\n",
       "      <td>Large</td>\n",
       "      <td>84000000.0</td>\n",
       "    </tr>\n",
       "    <tr>\n",
       "      <th>13427</th>\n",
       "      <td>2022</td>\n",
       "      <td>Executive-Level</td>\n",
       "      <td>Full-Time</td>\n",
       "      <td>Head of Machine Learning</td>\n",
       "      <td>6000000</td>\n",
       "      <td>INR</td>\n",
       "      <td>50</td>\n",
       "      <td>Large</td>\n",
       "      <td>72000000.0</td>\n",
       "    </tr>\n",
       "    <tr>\n",
       "      <th>11723</th>\n",
       "      <td>2023</td>\n",
       "      <td>Mid-Level</td>\n",
       "      <td>Full-Time</td>\n",
       "      <td>Head of Data Science</td>\n",
       "      <td>5000000</td>\n",
       "      <td>INR</td>\n",
       "      <td>50</td>\n",
       "      <td>Large</td>\n",
       "      <td>60000000.0</td>\n",
       "    </tr>\n",
       "    <tr>\n",
       "      <th>5885</th>\n",
       "      <td>2023</td>\n",
       "      <td>Entry-Level</td>\n",
       "      <td>Full-Time</td>\n",
       "      <td>AI Programmer</td>\n",
       "      <td>4950806</td>\n",
       "      <td>INR</td>\n",
       "      <td>0</td>\n",
       "      <td>S</td>\n",
       "      <td>59409672.0</td>\n",
       "    </tr>\n",
       "    <tr>\n",
       "      <th>13865</th>\n",
       "      <td>2021</td>\n",
       "      <td>Senior-Level</td>\n",
       "      <td>Full-Time</td>\n",
       "      <td>Machine Learning Engineer</td>\n",
       "      <td>4900000</td>\n",
       "      <td>INR</td>\n",
       "      <td>0</td>\n",
       "      <td>Large</td>\n",
       "      <td>58800000.0</td>\n",
       "    </tr>\n",
       "    <tr>\n",
       "      <th>12124</th>\n",
       "      <td>2022</td>\n",
       "      <td>Senior-Level</td>\n",
       "      <td>Full-Time</td>\n",
       "      <td>Lead Data Scientist</td>\n",
       "      <td>4460000</td>\n",
       "      <td>INR</td>\n",
       "      <td>0</td>\n",
       "      <td>Large</td>\n",
       "      <td>53520000.0</td>\n",
       "    </tr>\n",
       "    <tr>\n",
       "      <th>13298</th>\n",
       "      <td>2022</td>\n",
       "      <td>Mid-Level</td>\n",
       "      <td>Full-Time</td>\n",
       "      <td>Data Scientist</td>\n",
       "      <td>4200000</td>\n",
       "      <td>INR</td>\n",
       "      <td>100</td>\n",
       "      <td>Large</td>\n",
       "      <td>50400000.0</td>\n",
       "    </tr>\n",
       "    <tr>\n",
       "      <th>9887</th>\n",
       "      <td>2023</td>\n",
       "      <td>Entry-Level</td>\n",
       "      <td>Full-Time</td>\n",
       "      <td>Applied Machine Learning Scientist</td>\n",
       "      <td>4000000</td>\n",
       "      <td>INR</td>\n",
       "      <td>100</td>\n",
       "      <td>Large</td>\n",
       "      <td>48000000.0</td>\n",
       "    </tr>\n",
       "    <tr>\n",
       "      <th>11996</th>\n",
       "      <td>2021</td>\n",
       "      <td>Senior-Level</td>\n",
       "      <td>Full-Time</td>\n",
       "      <td>Data Scientist</td>\n",
       "      <td>4000000</td>\n",
       "      <td>INR</td>\n",
       "      <td>100</td>\n",
       "      <td>Large</td>\n",
       "      <td>48000000.0</td>\n",
       "    </tr>\n",
       "  </tbody>\n",
       "</table>\n",
       "</div>"
      ],
      "text/plain": [
       "       Work_Year Experience_Level Employment_Type  \\\n",
       "13206       2022     Senior-Level       Full-Time   \n",
       "13971       2021     Senior-Level       Full-Time   \n",
       "13427       2022  Executive-Level       Full-Time   \n",
       "11723       2023        Mid-Level       Full-Time   \n",
       "5885        2023      Entry-Level       Full-Time   \n",
       "13865       2021     Senior-Level       Full-Time   \n",
       "12124       2022     Senior-Level       Full-Time   \n",
       "13298       2022        Mid-Level       Full-Time   \n",
       "9887        2023      Entry-Level       Full-Time   \n",
       "11996       2021     Senior-Level       Full-Time   \n",
       "\n",
       "                                Job_Title   Salary Salary_Currency  \\\n",
       "13206      Lead Machine Learning Engineer  7500000             INR   \n",
       "13971                Data Science Manager  7000000             INR   \n",
       "13427            Head of Machine Learning  6000000             INR   \n",
       "11723                Head of Data Science  5000000             INR   \n",
       "5885                        AI Programmer  4950806             INR   \n",
       "13865           Machine Learning Engineer  4900000             INR   \n",
       "12124                 Lead Data Scientist  4460000             INR   \n",
       "13298                      Data Scientist  4200000             INR   \n",
       "9887   Applied Machine Learning Scientist  4000000             INR   \n",
       "11996                      Data Scientist  4000000             INR   \n",
       "\n",
       "       Remote_Ratio Company_Size  Salary_in_USD  \n",
       "13206            50        Large     90000000.0  \n",
       "13971            50        Large     84000000.0  \n",
       "13427            50        Large     72000000.0  \n",
       "11723            50        Large     60000000.0  \n",
       "5885              0            S     59409672.0  \n",
       "13865             0        Large     58800000.0  \n",
       "12124             0        Large     53520000.0  \n",
       "13298           100        Large     50400000.0  \n",
       "9887            100        Large     48000000.0  \n",
       "11996           100        Large     48000000.0  "
      ]
     },
     "execution_count": 17,
     "metadata": {},
     "output_type": "execute_result"
    }
   ],
   "source": [
    "finalized_df.sort_values(ascending=False, by='Salary_in_USD')[:10]"
   ]
  },
  {
   "cell_type": "code",
   "execution_count": null,
   "id": "2ae786f0b456336a",
   "metadata": {
    "ExecuteTime": {
     "end_time": "2024-04-05T15:20:17.631543Z",
     "start_time": "2024-04-05T15:20:17.629957Z"
    },
    "collapsed": false,
    "jupyter": {
     "outputs_hidden": false
    }
   },
   "outputs": [],
   "source": []
  }
 ],
 "metadata": {
  "kernelspec": {
   "display_name": "Python 3 (ipykernel)",
   "language": "python",
   "name": "python3"
  },
  "language_info": {
   "codemirror_mode": {
    "name": "ipython",
    "version": 3
   },
   "file_extension": ".py",
   "mimetype": "text/x-python",
   "name": "python",
   "nbconvert_exporter": "python",
   "pygments_lexer": "ipython3",
   "version": "3.12.2"
  }
 },
 "nbformat": 4,
 "nbformat_minor": 5
}
