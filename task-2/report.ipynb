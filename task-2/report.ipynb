{
 "cells": [
  {
   "cell_type": "code",
   "outputs": [],
   "source": [
    "## installing Chrome Driver\n",
    "from webdriver_manager.chrome import ChromeDriverManager\n",
    "ChromeDriverManager().install();"
   ],
   "metadata": {
    "collapsed": false,
    "ExecuteTime": {
     "end_time": "2024-04-05T14:33:13.696041Z",
     "start_time": "2024-04-05T14:33:11.688900Z"
    }
   },
   "id": "33d99120544ea3e6",
   "execution_count": 1
  },
  {
   "cell_type": "code",
   "execution_count": 2,
   "id": "initial_id",
   "metadata": {
    "collapsed": true,
    "ExecuteTime": {
     "end_time": "2024-04-05T14:33:14.114818Z",
     "start_time": "2024-04-05T14:33:13.697296Z"
    }
   },
   "outputs": [],
   "source": [
    "import pandas as pd\n",
    "import matplotlib.pyplot as plt"
   ]
  },
  {
   "cell_type": "code",
   "outputs": [],
   "source": [
    "df = pd.read_csv('data/task2.csv')"
   ],
   "metadata": {
    "collapsed": false,
    "ExecuteTime": {
     "end_time": "2024-04-05T14:33:14.132831Z",
     "start_time": "2024-04-05T14:33:14.115696Z"
    }
   },
   "id": "425e097450175e40",
   "execution_count": 3
  },
  {
   "cell_type": "code",
   "outputs": [
    {
     "name": "stdout",
     "output_type": "stream",
     "text": [
      "<class 'pandas.core.frame.DataFrame'>\n",
      "RangeIndex: 13972 entries, 0 to 13971\n",
      "Data columns (total 8 columns):\n",
      " #   Column            Non-Null Count  Dtype \n",
      "---  ------            --------------  ----- \n",
      " 0   Work_Year         13972 non-null  int64 \n",
      " 1   Experience_Level  13972 non-null  object\n",
      " 2   Employment_Type   13972 non-null  object\n",
      " 3   Job_Title         13972 non-null  object\n",
      " 4   Salary            13972 non-null  int64 \n",
      " 5   Salary_Currency   13972 non-null  object\n",
      " 6   Remote_Ratio      13972 non-null  int64 \n",
      " 7   Company_Size      13972 non-null  object\n",
      "dtypes: int64(3), object(5)\n",
      "memory usage: 873.4+ KB\n"
     ]
    }
   ],
   "source": [
    "df.info()"
   ],
   "metadata": {
    "collapsed": false,
    "ExecuteTime": {
     "end_time": "2024-04-05T14:33:14.143470Z",
     "start_time": "2024-04-05T14:33:14.133793Z"
    }
   },
   "id": "38652ed7df2f9220",
   "execution_count": 4
  },
  {
   "cell_type": "code",
   "outputs": [],
   "source": [
    "cleansed_df = df.drop_duplicates()\n",
    "cleansed_df = cleansed_df.dropna()"
   ],
   "metadata": {
    "collapsed": false,
    "ExecuteTime": {
     "end_time": "2024-04-05T14:33:14.153132Z",
     "start_time": "2024-04-05T14:33:14.144241Z"
    }
   },
   "id": "d5d692f6366207ac",
   "execution_count": 5
  },
  {
   "cell_type": "code",
   "outputs": [
    {
     "name": "stdout",
     "output_type": "stream",
     "text": [
      "<class 'pandas.core.frame.DataFrame'>\n",
      "Index: 8407 entries, 0 to 13971\n",
      "Data columns (total 8 columns):\n",
      " #   Column            Non-Null Count  Dtype \n",
      "---  ------            --------------  ----- \n",
      " 0   Work_Year         8407 non-null   int64 \n",
      " 1   Experience_Level  8407 non-null   object\n",
      " 2   Employment_Type   8407 non-null   object\n",
      " 3   Job_Title         8407 non-null   object\n",
      " 4   Salary            8407 non-null   int64 \n",
      " 5   Salary_Currency   8407 non-null   object\n",
      " 6   Remote_Ratio      8407 non-null   int64 \n",
      " 7   Company_Size      8407 non-null   object\n",
      "dtypes: int64(3), object(5)\n",
      "memory usage: 591.1+ KB\n"
     ]
    }
   ],
   "source": [
    "cleansed_df.info()"
   ],
   "metadata": {
    "collapsed": false,
    "ExecuteTime": {
     "end_time": "2024-04-05T14:33:14.160569Z",
     "start_time": "2024-04-05T14:33:14.153892Z"
    }
   },
   "id": "5c0a7f07ec3760dd",
   "execution_count": 6
  },
  {
   "cell_type": "code",
   "outputs": [
    {
     "data": {
      "text/plain": "   Salary_Currency  Count\n0              AUD     12\n1              BRL      4\n2              CAD     48\n3              CHF      6\n4              CLP      1\n5              DKK      3\n6              EUR    339\n7              GBP    410\n8              HKD      1\n9              HUF      3\n10             ILS      1\n11             INR     52\n12             JPY      4\n13             MXN      1\n14             NOK      2\n15             NZD      1\n16             PHP      1\n17             PLN      7\n18             SGD      6\n19             THB      2\n20             TRY      3\n21             USD   7499\n22             ZAR      1",
      "text/html": "<div>\n<style scoped>\n    .dataframe tbody tr th:only-of-type {\n        vertical-align: middle;\n    }\n\n    .dataframe tbody tr th {\n        vertical-align: top;\n    }\n\n    .dataframe thead th {\n        text-align: right;\n    }\n</style>\n<table border=\"1\" class=\"dataframe\">\n  <thead>\n    <tr style=\"text-align: right;\">\n      <th></th>\n      <th>Salary_Currency</th>\n      <th>Count</th>\n    </tr>\n  </thead>\n  <tbody>\n    <tr>\n      <th>0</th>\n      <td>AUD</td>\n      <td>12</td>\n    </tr>\n    <tr>\n      <th>1</th>\n      <td>BRL</td>\n      <td>4</td>\n    </tr>\n    <tr>\n      <th>2</th>\n      <td>CAD</td>\n      <td>48</td>\n    </tr>\n    <tr>\n      <th>3</th>\n      <td>CHF</td>\n      <td>6</td>\n    </tr>\n    <tr>\n      <th>4</th>\n      <td>CLP</td>\n      <td>1</td>\n    </tr>\n    <tr>\n      <th>5</th>\n      <td>DKK</td>\n      <td>3</td>\n    </tr>\n    <tr>\n      <th>6</th>\n      <td>EUR</td>\n      <td>339</td>\n    </tr>\n    <tr>\n      <th>7</th>\n      <td>GBP</td>\n      <td>410</td>\n    </tr>\n    <tr>\n      <th>8</th>\n      <td>HKD</td>\n      <td>1</td>\n    </tr>\n    <tr>\n      <th>9</th>\n      <td>HUF</td>\n      <td>3</td>\n    </tr>\n    <tr>\n      <th>10</th>\n      <td>ILS</td>\n      <td>1</td>\n    </tr>\n    <tr>\n      <th>11</th>\n      <td>INR</td>\n      <td>52</td>\n    </tr>\n    <tr>\n      <th>12</th>\n      <td>JPY</td>\n      <td>4</td>\n    </tr>\n    <tr>\n      <th>13</th>\n      <td>MXN</td>\n      <td>1</td>\n    </tr>\n    <tr>\n      <th>14</th>\n      <td>NOK</td>\n      <td>2</td>\n    </tr>\n    <tr>\n      <th>15</th>\n      <td>NZD</td>\n      <td>1</td>\n    </tr>\n    <tr>\n      <th>16</th>\n      <td>PHP</td>\n      <td>1</td>\n    </tr>\n    <tr>\n      <th>17</th>\n      <td>PLN</td>\n      <td>7</td>\n    </tr>\n    <tr>\n      <th>18</th>\n      <td>SGD</td>\n      <td>6</td>\n    </tr>\n    <tr>\n      <th>19</th>\n      <td>THB</td>\n      <td>2</td>\n    </tr>\n    <tr>\n      <th>20</th>\n      <td>TRY</td>\n      <td>3</td>\n    </tr>\n    <tr>\n      <th>21</th>\n      <td>USD</td>\n      <td>7499</td>\n    </tr>\n    <tr>\n      <th>22</th>\n      <td>ZAR</td>\n      <td>1</td>\n    </tr>\n  </tbody>\n</table>\n</div>"
     },
     "execution_count": 7,
     "metadata": {},
     "output_type": "execute_result"
    }
   ],
   "source": [
    "value_counts = cleansed_df.groupby('Salary_Currency').size()\n",
    "value_counts = value_counts.reset_index()\n",
    "value_counts.columns = ['Salary_Currency', 'Count']\n",
    "value_counts"
   ],
   "metadata": {
    "collapsed": false,
    "ExecuteTime": {
     "end_time": "2024-04-05T14:33:14.169877Z",
     "start_time": "2024-04-05T14:33:14.161344Z"
    }
   },
   "id": "cf8148b9b5dca636",
   "execution_count": 7
  },
  {
   "cell_type": "code",
   "outputs": [
    {
     "data": {
      "text/plain": "       Work_Year Experience_Level Employment_Type                  Job_Title  \\\n0           2024     Senior-Level       Full-Time                AI Engineer   \n1           2024     Senior-Level       Full-Time  Machine Learning Engineer   \n2           2024     Senior-Level       Full-Time  Machine Learning Engineer   \n3           2024     Senior-Level       Full-Time  Machine Learning Engineer   \n4           2024     Senior-Level       Full-Time  Machine Learning Engineer   \n...          ...              ...             ...                        ...   \n13967       2020     Senior-Level       Full-Time             Data Scientist   \n13968       2021        Mid-Level       Full-Time   Principal Data Scientist   \n13969       2020      Entry-Level       Full-Time             Data Scientist   \n13970       2020      Entry-Level        Contract      Business Data Analyst   \n13971       2021     Senior-Level       Full-Time       Data Science Manager   \n\n        Salary Salary_Currency  Remote_Ratio Company_Size  \n0        90000             USD             0        Large  \n1       180500             USD             0       Medium  \n2        96200             USD             0       Medium  \n3       235000             USD             0       Medium  \n4       175000             USD             0       Medium  \n...        ...             ...           ...          ...  \n13967   412000             USD           100        Large  \n13968   151000             USD           100        Large  \n13969   105000             USD           100            S  \n13970   100000             USD           100        Large  \n13971  7000000             INR            50        Large  \n\n[8360 rows x 8 columns]",
      "text/html": "<div>\n<style scoped>\n    .dataframe tbody tr th:only-of-type {\n        vertical-align: middle;\n    }\n\n    .dataframe tbody tr th {\n        vertical-align: top;\n    }\n\n    .dataframe thead th {\n        text-align: right;\n    }\n</style>\n<table border=\"1\" class=\"dataframe\">\n  <thead>\n    <tr style=\"text-align: right;\">\n      <th></th>\n      <th>Work_Year</th>\n      <th>Experience_Level</th>\n      <th>Employment_Type</th>\n      <th>Job_Title</th>\n      <th>Salary</th>\n      <th>Salary_Currency</th>\n      <th>Remote_Ratio</th>\n      <th>Company_Size</th>\n    </tr>\n  </thead>\n  <tbody>\n    <tr>\n      <th>0</th>\n      <td>2024</td>\n      <td>Senior-Level</td>\n      <td>Full-Time</td>\n      <td>AI Engineer</td>\n      <td>90000</td>\n      <td>USD</td>\n      <td>0</td>\n      <td>Large</td>\n    </tr>\n    <tr>\n      <th>1</th>\n      <td>2024</td>\n      <td>Senior-Level</td>\n      <td>Full-Time</td>\n      <td>Machine Learning Engineer</td>\n      <td>180500</td>\n      <td>USD</td>\n      <td>0</td>\n      <td>Medium</td>\n    </tr>\n    <tr>\n      <th>2</th>\n      <td>2024</td>\n      <td>Senior-Level</td>\n      <td>Full-Time</td>\n      <td>Machine Learning Engineer</td>\n      <td>96200</td>\n      <td>USD</td>\n      <td>0</td>\n      <td>Medium</td>\n    </tr>\n    <tr>\n      <th>3</th>\n      <td>2024</td>\n      <td>Senior-Level</td>\n      <td>Full-Time</td>\n      <td>Machine Learning Engineer</td>\n      <td>235000</td>\n      <td>USD</td>\n      <td>0</td>\n      <td>Medium</td>\n    </tr>\n    <tr>\n      <th>4</th>\n      <td>2024</td>\n      <td>Senior-Level</td>\n      <td>Full-Time</td>\n      <td>Machine Learning Engineer</td>\n      <td>175000</td>\n      <td>USD</td>\n      <td>0</td>\n      <td>Medium</td>\n    </tr>\n    <tr>\n      <th>...</th>\n      <td>...</td>\n      <td>...</td>\n      <td>...</td>\n      <td>...</td>\n      <td>...</td>\n      <td>...</td>\n      <td>...</td>\n      <td>...</td>\n    </tr>\n    <tr>\n      <th>13967</th>\n      <td>2020</td>\n      <td>Senior-Level</td>\n      <td>Full-Time</td>\n      <td>Data Scientist</td>\n      <td>412000</td>\n      <td>USD</td>\n      <td>100</td>\n      <td>Large</td>\n    </tr>\n    <tr>\n      <th>13968</th>\n      <td>2021</td>\n      <td>Mid-Level</td>\n      <td>Full-Time</td>\n      <td>Principal Data Scientist</td>\n      <td>151000</td>\n      <td>USD</td>\n      <td>100</td>\n      <td>Large</td>\n    </tr>\n    <tr>\n      <th>13969</th>\n      <td>2020</td>\n      <td>Entry-Level</td>\n      <td>Full-Time</td>\n      <td>Data Scientist</td>\n      <td>105000</td>\n      <td>USD</td>\n      <td>100</td>\n      <td>S</td>\n    </tr>\n    <tr>\n      <th>13970</th>\n      <td>2020</td>\n      <td>Entry-Level</td>\n      <td>Contract</td>\n      <td>Business Data Analyst</td>\n      <td>100000</td>\n      <td>USD</td>\n      <td>100</td>\n      <td>Large</td>\n    </tr>\n    <tr>\n      <th>13971</th>\n      <td>2021</td>\n      <td>Senior-Level</td>\n      <td>Full-Time</td>\n      <td>Data Science Manager</td>\n      <td>7000000</td>\n      <td>INR</td>\n      <td>50</td>\n      <td>Large</td>\n    </tr>\n  </tbody>\n</table>\n<p>8360 rows × 8 columns</p>\n</div>"
     },
     "execution_count": 8,
     "metadata": {},
     "output_type": "execute_result"
    }
   ],
   "source": [
    "filter_indexes = cleansed_df['Salary_Currency'].isin(value_counts[value_counts['Count'] >= 10]['Salary_Currency'])\n",
    "filtered_df = cleansed_df[filter_indexes]\n",
    "filtered_df"
   ],
   "metadata": {
    "collapsed": false,
    "ExecuteTime": {
     "end_time": "2024-04-05T14:33:14.179450Z",
     "start_time": "2024-04-05T14:33:14.170705Z"
    }
   },
   "id": "2d5a917bc94e4f43",
   "execution_count": 8
  },
  {
   "cell_type": "code",
   "outputs": [
    {
     "data": {
      "text/plain": "Salary_Currency\nUSD    7499\nGBP     410\nEUR     339\nINR      52\nCAD      48\nAUD      12\nName: count, dtype: int64"
     },
     "execution_count": 9,
     "metadata": {},
     "output_type": "execute_result"
    }
   ],
   "source": [
    "filtered_df['Salary_Currency'].value_counts()"
   ],
   "metadata": {
    "collapsed": false,
    "ExecuteTime": {
     "end_time": "2024-04-05T14:33:14.185090Z",
     "start_time": "2024-04-05T14:33:14.180740Z"
    }
   },
   "id": "1695b5866499667",
   "execution_count": 9
  },
  {
   "cell_type": "code",
   "outputs": [],
   "source": [
    "from task2.currency import find_exchange_rate\n",
    "\n",
    "exchange_rates = {}\n",
    "for currency in filtered_df['Salary_Currency'].unique():\n",
    "    exchange_rates[currency] = find_exchange_rate(currency)"
   ],
   "metadata": {
    "collapsed": false,
    "ExecuteTime": {
     "end_time": "2024-04-05T14:33:47.156141Z",
     "start_time": "2024-04-05T14:33:14.186750Z"
    }
   },
   "id": "8512759c31c0bc31",
   "execution_count": 10
  },
  {
   "cell_type": "code",
   "outputs": [
    {
     "data": {
      "text/plain": "{'USD': 1, 'EUR': 1.08, 'GBP': 1.26, 'CAD': 0.73, 'AUD': 0.66, 'INR': 0.012}"
     },
     "execution_count": 11,
     "metadata": {},
     "output_type": "execute_result"
    }
   ],
   "source": [
    "exchange_rates"
   ],
   "metadata": {
    "collapsed": false,
    "ExecuteTime": {
     "end_time": "2024-04-05T14:33:49.906875Z",
     "start_time": "2024-04-05T14:33:49.901572Z"
    }
   },
   "id": "707ae0cdc2f52d4f",
   "execution_count": 11
  },
  {
   "cell_type": "code",
   "outputs": [
    {
     "data": {
      "text/plain": "       Work_Year Experience_Level Employment_Type                  Job_Title  \\\n29          2024      Entry-Level       Full-Time               Data Analyst   \n30          2024      Entry-Level       Full-Time               Data Analyst   \n143         2024     Senior-Level       Full-Time       Data Quality Analyst   \n144         2024     Senior-Level       Full-Time       Data Quality Analyst   \n243         2023      Entry-Level       Full-Time       Data DevOps Engineer   \n...          ...              ...             ...                        ...   \n13952       2021        Mid-Level       Full-Time          Lead Data Analyst   \n13956       2021        Mid-Level       Full-Time              Data Engineer   \n13961       2020     Senior-Level       Full-Time  Machine Learning Engineer   \n13965       2021        Mid-Level       Full-Time              Data Engineer   \n13971       2021     Senior-Level       Full-Time       Data Science Manager   \n\n        Salary Salary_Currency  Remote_Ratio Company_Size  Salary_IN_USD  \n29       39600             EUR             0       Medium       42768.00  \n30       33600             EUR             0       Medium       36288.00  \n143      80000             GBP             0       Medium      100800.00  \n144      45000             GBP             0       Medium       56700.00  \n243      44382             EUR            50        Large       47932.56  \n...        ...             ...           ...          ...            ...  \n13952  1450000             INR           100        Large       17400.00  \n13956    38400             EUR           100        Large       41472.00  \n13961    40000             EUR           100            S       43200.00  \n13965    24000             EUR            50        Large       25920.00  \n13971  7000000             INR            50        Large       84000.00  \n\n[861 rows x 9 columns]",
      "text/html": "<div>\n<style scoped>\n    .dataframe tbody tr th:only-of-type {\n        vertical-align: middle;\n    }\n\n    .dataframe tbody tr th {\n        vertical-align: top;\n    }\n\n    .dataframe thead th {\n        text-align: right;\n    }\n</style>\n<table border=\"1\" class=\"dataframe\">\n  <thead>\n    <tr style=\"text-align: right;\">\n      <th></th>\n      <th>Work_Year</th>\n      <th>Experience_Level</th>\n      <th>Employment_Type</th>\n      <th>Job_Title</th>\n      <th>Salary</th>\n      <th>Salary_Currency</th>\n      <th>Remote_Ratio</th>\n      <th>Company_Size</th>\n      <th>Salary_IN_USD</th>\n    </tr>\n  </thead>\n  <tbody>\n    <tr>\n      <th>29</th>\n      <td>2024</td>\n      <td>Entry-Level</td>\n      <td>Full-Time</td>\n      <td>Data Analyst</td>\n      <td>39600</td>\n      <td>EUR</td>\n      <td>0</td>\n      <td>Medium</td>\n      <td>42768.00</td>\n    </tr>\n    <tr>\n      <th>30</th>\n      <td>2024</td>\n      <td>Entry-Level</td>\n      <td>Full-Time</td>\n      <td>Data Analyst</td>\n      <td>33600</td>\n      <td>EUR</td>\n      <td>0</td>\n      <td>Medium</td>\n      <td>36288.00</td>\n    </tr>\n    <tr>\n      <th>143</th>\n      <td>2024</td>\n      <td>Senior-Level</td>\n      <td>Full-Time</td>\n      <td>Data Quality Analyst</td>\n      <td>80000</td>\n      <td>GBP</td>\n      <td>0</td>\n      <td>Medium</td>\n      <td>100800.00</td>\n    </tr>\n    <tr>\n      <th>144</th>\n      <td>2024</td>\n      <td>Senior-Level</td>\n      <td>Full-Time</td>\n      <td>Data Quality Analyst</td>\n      <td>45000</td>\n      <td>GBP</td>\n      <td>0</td>\n      <td>Medium</td>\n      <td>56700.00</td>\n    </tr>\n    <tr>\n      <th>243</th>\n      <td>2023</td>\n      <td>Entry-Level</td>\n      <td>Full-Time</td>\n      <td>Data DevOps Engineer</td>\n      <td>44382</td>\n      <td>EUR</td>\n      <td>50</td>\n      <td>Large</td>\n      <td>47932.56</td>\n    </tr>\n    <tr>\n      <th>...</th>\n      <td>...</td>\n      <td>...</td>\n      <td>...</td>\n      <td>...</td>\n      <td>...</td>\n      <td>...</td>\n      <td>...</td>\n      <td>...</td>\n      <td>...</td>\n    </tr>\n    <tr>\n      <th>13952</th>\n      <td>2021</td>\n      <td>Mid-Level</td>\n      <td>Full-Time</td>\n      <td>Lead Data Analyst</td>\n      <td>1450000</td>\n      <td>INR</td>\n      <td>100</td>\n      <td>Large</td>\n      <td>17400.00</td>\n    </tr>\n    <tr>\n      <th>13956</th>\n      <td>2021</td>\n      <td>Mid-Level</td>\n      <td>Full-Time</td>\n      <td>Data Engineer</td>\n      <td>38400</td>\n      <td>EUR</td>\n      <td>100</td>\n      <td>Large</td>\n      <td>41472.00</td>\n    </tr>\n    <tr>\n      <th>13961</th>\n      <td>2020</td>\n      <td>Senior-Level</td>\n      <td>Full-Time</td>\n      <td>Machine Learning Engineer</td>\n      <td>40000</td>\n      <td>EUR</td>\n      <td>100</td>\n      <td>S</td>\n      <td>43200.00</td>\n    </tr>\n    <tr>\n      <th>13965</th>\n      <td>2021</td>\n      <td>Mid-Level</td>\n      <td>Full-Time</td>\n      <td>Data Engineer</td>\n      <td>24000</td>\n      <td>EUR</td>\n      <td>50</td>\n      <td>Large</td>\n      <td>25920.00</td>\n    </tr>\n    <tr>\n      <th>13971</th>\n      <td>2021</td>\n      <td>Senior-Level</td>\n      <td>Full-Time</td>\n      <td>Data Science Manager</td>\n      <td>7000000</td>\n      <td>INR</td>\n      <td>50</td>\n      <td>Large</td>\n      <td>84000.00</td>\n    </tr>\n  </tbody>\n</table>\n<p>861 rows × 9 columns</p>\n</div>"
     },
     "execution_count": 50,
     "metadata": {},
     "output_type": "execute_result"
    }
   ],
   "source": [
    "filtered_df.loc[:, \"Salary_IN_USD\"] = filtered_df.apply(\n",
    "    lambda entry: exchange_rates[entry['Salary_Currency']] * entry['Salary'], \n",
    "    axis=1)\n",
    "filtered_df[filtered_df['Salary_Currency'] != 'USD']"
   ],
   "metadata": {
    "collapsed": false,
    "ExecuteTime": {
     "end_time": "2024-04-05T14:57:39.127645Z",
     "start_time": "2024-04-05T14:57:39.078409Z"
    }
   },
   "id": "ca7f3189934985c5",
   "execution_count": 50
  },
  {
   "cell_type": "code",
   "outputs": [
    {
     "data": {
      "text/plain": "<Figure size 640x480 with 1 Axes>",
      "image/png": "[encoded data removed]"
     },
     "metadata": {},
     "output_type": "display_data"
    }
   ],
   "source": [
    "plt.figure()\n",
    "filtered_df['Salary_IN_USD'].hist(bins=20, edgecolor='black')\n",
    "plt.grid(False)\n",
    "plt.show()"
   ],
   "metadata": {
    "collapsed": false,
    "ExecuteTime": {
     "end_time": "2024-04-05T15:03:31.646579Z",
     "start_time": "2024-04-05T15:03:31.533525Z"
    }
   },
   "id": "782ecc94b9c546a0",
   "execution_count": 62
  },
  {
   "cell_type": "code",
   "outputs": [],
   "source": [],
   "metadata": {
    "collapsed": false
   },
   "id": "f9ac44db1088eeb2"
  }
 ],
 "metadata": {
  "kernelspec": {
   "display_name": "Python 3",
   "language": "python",
   "name": "python3"
  },
  "language_info": {
   "codemirror_mode": {
    "name": "ipython",
    "version": 2
   },
   "file_extension": ".py",
   "mimetype": "text/x-python",
   "name": "python",
   "nbconvert_exporter": "python",
   "pygments_lexer": "ipython2",
   "version": "2.7.6"
  }
 },
 "nbformat": 4,
 "nbformat_minor": 5
}
