{
 "cells": [
  {
   "cell_type": "code",
   "execution_count": 1,
   "id": "33d99120544ea3e6",
   "metadata": {
    "ExecuteTime": {
     "end_time": "2024-04-05T14:33:13.696041Z",
     "start_time": "2024-04-05T14:33:11.688900Z"
    },
    "collapsed": false,
    "jupyter": {
     "outputs_hidden": false
    }
   },
   "outputs": [],
   "source": [
    "## installing Chrome Driver\n",
    "from webdriver_manager.chrome import ChromeDriverManager\n",
    "ChromeDriverManager().install();"
   ]
  },
  {
   "cell_type": "code",
   "execution_count": 2,
   "id": "initial_id",
   "metadata": {
    "ExecuteTime": {
     "end_time": "2024-04-05T14:33:14.114818Z",
     "start_time": "2024-04-05T14:33:13.697296Z"
    }
   },
   "outputs": [],
   "source": [
    "import pandas as pd\n",
    "import matplotlib.pyplot as plt"
   ]
  },
  {
   "cell_type": "code",
   "execution_count": 3,
   "id": "425e097450175e40",
   "metadata": {
    "ExecuteTime": {
     "end_time": "2024-04-05T14:33:14.132831Z",
     "start_time": "2024-04-05T14:33:14.115696Z"
    },
    "collapsed": false,
    "jupyter": {
     "outputs_hidden": false
    }
   },
   "outputs": [],
   "source": [
    "df = pd.read_csv('data/task2.csv')"
   ]
  },
  {
   "cell_type": "code",
   "execution_count": 4,
   "id": "38652ed7df2f9220",
   "metadata": {
    "ExecuteTime": {
     "end_time": "2024-04-05T14:33:14.143470Z",
     "start_time": "2024-04-05T14:33:14.133793Z"
    },
    "collapsed": false,
    "jupyter": {
     "outputs_hidden": false
    }
   },
   "outputs": [
    {
     "name": "stdout",
     "output_type": "stream",
     "text": [
      "<class 'pandas.core.frame.DataFrame'>\n",
      "RangeIndex: 13972 entries, 0 to 13971\n",
      "Data columns (total 8 columns):\n",
      " #   Column            Non-Null Count  Dtype \n",
      "---  ------            --------------  ----- \n",
      " 0   Work_Year         13972 non-null  int64 \n",
      " 1   Experience_Level  13972 non-null  object\n",
      " 2   Employment_Type   13972 non-null  object\n",
      " 3   Job_Title         13972 non-null  object\n",
      " 4   Salary            13972 non-null  int64 \n",
      " 5   Salary_Currency   13972 non-null  object\n",
      " 6   Remote_Ratio      13972 non-null  int64 \n",
      " 7   Company_Size      13972 non-null  object\n",
      "dtypes: int64(3), object(5)\n",
      "memory usage: 873.4+ KB\n"
     ]
    }
   ],
   "source": [
    "df.info()"
   ]
  },
  {
   "cell_type": "code",
   "execution_count": 5,
   "id": "d5d692f6366207ac",
   "metadata": {
    "ExecuteTime": {
     "end_time": "2024-04-05T14:33:14.153132Z",
     "start_time": "2024-04-05T14:33:14.144241Z"
    },
    "collapsed": false,
    "jupyter": {
     "outputs_hidden": false
    }
   },
   "outputs": [],
   "source": [
    "cleansed_df = df.drop_duplicates()\n",
    "cleansed_df = cleansed_df.dropna()"
   ]
  },
  {
   "cell_type": "code",
   "execution_count": 6,
   "id": "5c0a7f07ec3760dd",
   "metadata": {
    "ExecuteTime": {
     "end_time": "2024-04-05T14:33:14.160569Z",
     "start_time": "2024-04-05T14:33:14.153892Z"
    },
    "collapsed": false,
    "jupyter": {
     "outputs_hidden": false
    }
   },
   "outputs": [
    {
     "name": "stdout",
     "output_type": "stream",
     "text": [
      "<class 'pandas.core.frame.DataFrame'>\n",
      "Index: 8407 entries, 0 to 13971\n",
      "Data columns (total 8 columns):\n",
      " #   Column            Non-Null Count  Dtype \n",
      "---  ------            --------------  ----- \n",
      " 0   Work_Year         8407 non-null   int64 \n",
      " 1   Experience_Level  8407 non-null   object\n",
      " 2   Employment_Type   8407 non-null   object\n",
      " 3   Job_Title         8407 non-null   object\n",
      " 4   Salary            8407 non-null   int64 \n",
      " 5   Salary_Currency   8407 non-null   object\n",
      " 6   Remote_Ratio      8407 non-null   int64 \n",
      " 7   Company_Size      8407 non-null   object\n",
      "dtypes: int64(3), object(5)\n",
      "memory usage: 591.1+ KB\n"
     ]
    }
   ],
   "source": [
    "cleansed_df.info()"
   ]
  },
  {
   "cell_type": "code",
   "execution_count": 7,
   "id": "cf8148b9b5dca636",
   "metadata": {
    "ExecuteTime": {
     "end_time": "2024-04-05T14:33:14.169877Z",
     "start_time": "2024-04-05T14:33:14.161344Z"
    },
    "collapsed": false,
    "jupyter": {
     "outputs_hidden": false
    }
   },
   "outputs": [
    {
     "data": {
      "text/html": [
       "<div>\n",
       "<style scoped>\n",
       "    .dataframe tbody tr th:only-of-type {\n",
       "        vertical-align: middle;\n",
       "    }\n",
       "\n",
       "    .dataframe tbody tr th {\n",
       "        vertical-align: top;\n",
       "    }\n",
       "\n",
       "    .dataframe thead th {\n",
       "        text-align: right;\n",
       "    }\n",
       "</style>\n",
       "<table border=\"1\" class=\"dataframe\">\n",
       "  <thead>\n",
       "    <tr style=\"text-align: right;\">\n",
       "      <th></th>\n",
       "      <th>Salary_Currency</th>\n",
       "      <th>Count</th>\n",
       "    </tr>\n",
       "  </thead>\n",
       "  <tbody>\n",
       "    <tr>\n",
       "      <th>0</th>\n",
       "      <td>AUD</td>\n",
       "      <td>12</td>\n",
       "    </tr>\n",
       "    <tr>\n",
       "      <th>1</th>\n",
       "      <td>BRL</td>\n",
       "      <td>4</td>\n",
       "    </tr>\n",
       "    <tr>\n",
       "      <th>2</th>\n",
       "      <td>CAD</td>\n",
       "      <td>48</td>\n",
       "    </tr>\n",
       "    <tr>\n",
       "      <th>3</th>\n",
       "      <td>CHF</td>\n",
       "      <td>6</td>\n",
       "    </tr>\n",
       "    <tr>\n",
       "      <th>4</th>\n",
       "      <td>CLP</td>\n",
       "      <td>1</td>\n",
       "    </tr>\n",
       "    <tr>\n",
       "      <th>5</th>\n",
       "      <td>DKK</td>\n",
       "      <td>3</td>\n",
       "    </tr>\n",
       "    <tr>\n",
       "      <th>6</th>\n",
       "      <td>EUR</td>\n",
       "      <td>339</td>\n",
       "    </tr>\n",
       "    <tr>\n",
       "      <th>7</th>\n",
       "      <td>GBP</td>\n",
       "      <td>410</td>\n",
       "    </tr>\n",
       "    <tr>\n",
       "      <th>8</th>\n",
       "      <td>HKD</td>\n",
       "      <td>1</td>\n",
       "    </tr>\n",
       "    <tr>\n",
       "      <th>9</th>\n",
       "      <td>HUF</td>\n",
       "      <td>3</td>\n",
       "    </tr>\n",
       "    <tr>\n",
       "      <th>10</th>\n",
       "      <td>ILS</td>\n",
       "      <td>1</td>\n",
       "    </tr>\n",
       "    <tr>\n",
       "      <th>11</th>\n",
       "      <td>INR</td>\n",
       "      <td>52</td>\n",
       "    </tr>\n",
       "    <tr>\n",
       "      <th>12</th>\n",
       "      <td>JPY</td>\n",
       "      <td>4</td>\n",
       "    </tr>\n",
       "    <tr>\n",
       "      <th>13</th>\n",
       "      <td>MXN</td>\n",
       "      <td>1</td>\n",
       "    </tr>\n",
       "    <tr>\n",
       "      <th>14</th>\n",
       "      <td>NOK</td>\n",
       "      <td>2</td>\n",
       "    </tr>\n",
       "    <tr>\n",
       "      <th>15</th>\n",
       "      <td>NZD</td>\n",
       "      <td>1</td>\n",
       "    </tr>\n",
       "    <tr>\n",
       "      <th>16</th>\n",
       "      <td>PHP</td>\n",
       "      <td>1</td>\n",
       "    </tr>\n",
       "    <tr>\n",
       "      <th>17</th>\n",
       "      <td>PLN</td>\n",
       "      <td>7</td>\n",
       "    </tr>\n",
       "    <tr>\n",
       "      <th>18</th>\n",
       "      <td>SGD</td>\n",
       "      <td>6</td>\n",
       "    </tr>\n",
       "    <tr>\n",
       "      <th>19</th>\n",
       "      <td>THB</td>\n",
       "      <td>2</td>\n",
       "    </tr>\n",
       "    <tr>\n",
       "      <th>20</th>\n",
       "      <td>TRY</td>\n",
       "      <td>3</td>\n",
       "    </tr>\n",
       "    <tr>\n",
       "      <th>21</th>\n",
       "      <td>USD</td>\n",
       "      <td>7499</td>\n",
       "    </tr>\n",
       "    <tr>\n",
       "      <th>22</th>\n",
       "      <td>ZAR</td>\n",
       "      <td>1</td>\n",
       "    </tr>\n",
       "  </tbody>\n",
       "</table>\n",
       "</div>"
      ],
      "text/plain": [
       "   Salary_Currency  Count\n",
       "0              AUD     12\n",
       "1              BRL      4\n",
       "2              CAD     48\n",
       "3              CHF      6\n",
       "4              CLP      1\n",
       "5              DKK      3\n",
       "6              EUR    339\n",
       "7              GBP    410\n",
       "8              HKD      1\n",
       "9              HUF      3\n",
       "10             ILS      1\n",
       "11             INR     52\n",
       "12             JPY      4\n",
       "13             MXN      1\n",
       "14             NOK      2\n",
       "15             NZD      1\n",
       "16             PHP      1\n",
       "17             PLN      7\n",
       "18             SGD      6\n",
       "19             THB      2\n",
       "20             TRY      3\n",
       "21             USD   7499\n",
       "22             ZAR      1"
      ]
     },
     "execution_count": 7,
     "metadata": {},
     "output_type": "execute_result"
    }
   ],
   "source": [
    "value_counts = cleansed_df.groupby('Salary_Currency').size()\n",
    "value_counts = value_counts.reset_index()\n",
    "value_counts.columns = ['Salary_Currency', 'Count']\n",
    "value_counts"
   ]
  },
  {
   "cell_type": "code",
   "execution_count": 8,
   "id": "2d5a917bc94e4f43",
   "metadata": {
    "ExecuteTime": {
     "end_time": "2024-04-05T14:33:14.179450Z",
     "start_time": "2024-04-05T14:33:14.170705Z"
    },
    "collapsed": false,
    "jupyter": {
     "outputs_hidden": false
    }
   },
   "outputs": [
    {
     "data": {
      "text/html": [
       "<div>\n",
       "<style scoped>\n",
       "    .dataframe tbody tr th:only-of-type {\n",
       "        vertical-align: middle;\n",
       "    }\n",
       "\n",
       "    .dataframe tbody tr th {\n",
       "        vertical-align: top;\n",
       "    }\n",
       "\n",
       "    .dataframe thead th {\n",
       "        text-align: right;\n",
       "    }\n",
       "</style>\n",
       "<table border=\"1\" class=\"dataframe\">\n",
       "  <thead>\n",
       "    <tr style=\"text-align: right;\">\n",
       "      <th></th>\n",
       "      <th>Work_Year</th>\n",
       "      <th>Experience_Level</th>\n",
       "      <th>Employment_Type</th>\n",
       "      <th>Job_Title</th>\n",
       "      <th>Salary</th>\n",
       "      <th>Salary_Currency</th>\n",
       "      <th>Remote_Ratio</th>\n",
       "      <th>Company_Size</th>\n",
       "    </tr>\n",
       "  </thead>\n",
       "  <tbody>\n",
       "    <tr>\n",
       "      <th>0</th>\n",
       "      <td>2024</td>\n",
       "      <td>Senior-Level</td>\n",
       "      <td>Full-Time</td>\n",
       "      <td>AI Engineer</td>\n",
       "      <td>90000</td>\n",
       "      <td>USD</td>\n",
       "      <td>0</td>\n",
       "      <td>Large</td>\n",
       "    </tr>\n",
       "    <tr>\n",
       "      <th>1</th>\n",
       "      <td>2024</td>\n",
       "      <td>Senior-Level</td>\n",
       "      <td>Full-Time</td>\n",
       "      <td>Machine Learning Engineer</td>\n",
       "      <td>180500</td>\n",
       "      <td>USD</td>\n",
       "      <td>0</td>\n",
       "      <td>Medium</td>\n",
       "    </tr>\n",
       "    <tr>\n",
       "      <th>2</th>\n",
       "      <td>2024</td>\n",
       "      <td>Senior-Level</td>\n",
       "      <td>Full-Time</td>\n",
       "      <td>Machine Learning Engineer</td>\n",
       "      <td>96200</td>\n",
       "      <td>USD</td>\n",
       "      <td>0</td>\n",
       "      <td>Medium</td>\n",
       "    </tr>\n",
       "    <tr>\n",
       "      <th>3</th>\n",
       "      <td>2024</td>\n",
       "      <td>Senior-Level</td>\n",
       "      <td>Full-Time</td>\n",
       "      <td>Machine Learning Engineer</td>\n",
       "      <td>235000</td>\n",
       "      <td>USD</td>\n",
       "      <td>0</td>\n",
       "      <td>Medium</td>\n",
       "    </tr>\n",
       "    <tr>\n",
       "      <th>4</th>\n",
       "      <td>2024</td>\n",
       "      <td>Senior-Level</td>\n",
       "      <td>Full-Time</td>\n",
       "      <td>Machine Learning Engineer</td>\n",
       "      <td>175000</td>\n",
       "      <td>USD</td>\n",
       "      <td>0</td>\n",
       "      <td>Medium</td>\n",
       "    </tr>\n",
       "    <tr>\n",
       "      <th>...</th>\n",
       "      <td>...</td>\n",
       "      <td>...</td>\n",
       "      <td>...</td>\n",
       "      <td>...</td>\n",
       "      <td>...</td>\n",
       "      <td>...</td>\n",
       "      <td>...</td>\n",
       "      <td>...</td>\n",
       "    </tr>\n",
       "    <tr>\n",
       "      <th>13967</th>\n",
       "      <td>2020</td>\n",
       "      <td>Senior-Level</td>\n",
       "      <td>Full-Time</td>\n",
       "      <td>Data Scientist</td>\n",
       "      <td>412000</td>\n",
       "      <td>USD</td>\n",
       "      <td>100</td>\n",
       "      <td>Large</td>\n",
       "    </tr>\n",
       "    <tr>\n",
       "      <th>13968</th>\n",
       "      <td>2021</td>\n",
       "      <td>Mid-Level</td>\n",
       "      <td>Full-Time</td>\n",
       "      <td>Principal Data Scientist</td>\n",
       "      <td>151000</td>\n",
       "      <td>USD</td>\n",
       "      <td>100</td>\n",
       "      <td>Large</td>\n",
       "    </tr>\n",
       "    <tr>\n",
       "      <th>13969</th>\n",
       "      <td>2020</td>\n",
       "      <td>Entry-Level</td>\n",
       "      <td>Full-Time</td>\n",
       "      <td>Data Scientist</td>\n",
       "      <td>105000</td>\n",
       "      <td>USD</td>\n",
       "      <td>100</td>\n",
       "      <td>S</td>\n",
       "    </tr>\n",
       "    <tr>\n",
       "      <th>13970</th>\n",
       "      <td>2020</td>\n",
       "      <td>Entry-Level</td>\n",
       "      <td>Contract</td>\n",
       "      <td>Business Data Analyst</td>\n",
       "      <td>100000</td>\n",
       "      <td>USD</td>\n",
       "      <td>100</td>\n",
       "      <td>Large</td>\n",
       "    </tr>\n",
       "    <tr>\n",
       "      <th>13971</th>\n",
       "      <td>2021</td>\n",
       "      <td>Senior-Level</td>\n",
       "      <td>Full-Time</td>\n",
       "      <td>Data Science Manager</td>\n",
       "      <td>7000000</td>\n",
       "      <td>INR</td>\n",
       "      <td>50</td>\n",
       "      <td>Large</td>\n",
       "    </tr>\n",
       "  </tbody>\n",
       "</table>\n",
       "<p>8360 rows × 8 columns</p>\n",
       "</div>"
      ],
      "text/plain": [
       "       Work_Year Experience_Level Employment_Type                  Job_Title  \\\n",
       "0           2024     Senior-Level       Full-Time                AI Engineer   \n",
       "1           2024     Senior-Level       Full-Time  Machine Learning Engineer   \n",
       "2           2024     Senior-Level       Full-Time  Machine Learning Engineer   \n",
       "3           2024     Senior-Level       Full-Time  Machine Learning Engineer   \n",
       "4           2024     Senior-Level       Full-Time  Machine Learning Engineer   \n",
       "...          ...              ...             ...                        ...   \n",
       "13967       2020     Senior-Level       Full-Time             Data Scientist   \n",
       "13968       2021        Mid-Level       Full-Time   Principal Data Scientist   \n",
       "13969       2020      Entry-Level       Full-Time             Data Scientist   \n",
       "13970       2020      Entry-Level        Contract      Business Data Analyst   \n",
       "13971       2021     Senior-Level       Full-Time       Data Science Manager   \n",
       "\n",
       "        Salary Salary_Currency  Remote_Ratio Company_Size  \n",
       "0        90000             USD             0        Large  \n",
       "1       180500             USD             0       Medium  \n",
       "2        96200             USD             0       Medium  \n",
       "3       235000             USD             0       Medium  \n",
       "4       175000             USD             0       Medium  \n",
       "...        ...             ...           ...          ...  \n",
       "13967   412000             USD           100        Large  \n",
       "13968   151000             USD           100        Large  \n",
       "13969   105000             USD           100            S  \n",
       "13970   100000             USD           100        Large  \n",
       "13971  7000000             INR            50        Large  \n",
       "\n",
       "[8360 rows x 8 columns]"
      ]
     },
     "execution_count": 8,
     "metadata": {},
     "output_type": "execute_result"
    }
   ],
   "source": [
    "filter_indexes = cleansed_df['Salary_Currency'].isin(value_counts[value_counts['Count'] >= 10]['Salary_Currency'])\n",
    "filtered_df = cleansed_df[filter_indexes]\n",
    "filtered_df"
   ]
  },
  {
   "cell_type": "code",
   "execution_count": 9,
   "id": "1695b5866499667",
   "metadata": {
    "ExecuteTime": {
     "end_time": "2024-04-05T14:33:14.185090Z",
     "start_time": "2024-04-05T14:33:14.180740Z"
    },
    "collapsed": false,
    "jupyter": {
     "outputs_hidden": false
    }
   },
   "outputs": [
    {
     "data": {
      "text/plain": [
       "Salary_Currency\n",
       "USD    7499\n",
       "GBP     410\n",
       "EUR     339\n",
       "INR      52\n",
       "CAD      48\n",
       "AUD      12\n",
       "Name: count, dtype: int64"
      ]
     },
     "execution_count": 9,
     "metadata": {},
     "output_type": "execute_result"
    }
   ],
   "source": [
    "filtered_df['Salary_Currency'].value_counts()"
   ]
  },
  {
   "cell_type": "code",
   "execution_count": 10,
   "id": "8512759c31c0bc31",
   "metadata": {
    "ExecuteTime": {
     "end_time": "2024-04-05T14:33:47.156141Z",
     "start_time": "2024-04-05T14:33:14.186750Z"
    },
    "collapsed": false,
    "jupyter": {
     "outputs_hidden": false
    }
   },
   "outputs": [
    {
     "ename": "Exception",
     "evalue": "cad -> usd : No exchange rate found by google search",
     "output_type": "error",
     "traceback": [
      "\u001b[1;31m---------------------------------------------------------------------------\u001b[0m",
      "\u001b[1;31mException\u001b[0m                                 Traceback (most recent call last)",
      "File \u001b[1;32mC:\\f102m-data\\-University\\Uni 08\\3-DS\\1-CAs\\data_science-CA2\\task-2\\task2\\currency.py:21\u001b[0m, in \u001b[0;36mfind_exchange_rate\u001b[1;34m(from_currency, to_currency)\u001b[0m\n\u001b[0;32m     20\u001b[0m \u001b[38;5;28;01mtry\u001b[39;00m:\n\u001b[1;32m---> 21\u001b[0m     usd_equivalent \u001b[38;5;241m=\u001b[39m \u001b[43m_extract_exchange_rate_from_soup\u001b[49m\u001b[43m(\u001b[49m\u001b[43msoup\u001b[49m\u001b[43m)\u001b[49m\n\u001b[0;32m     22\u001b[0m \u001b[38;5;28;01mexcept\u001b[39;00m \u001b[38;5;167;01mException\u001b[39;00m \u001b[38;5;28;01mas\u001b[39;00m e:\n",
      "File \u001b[1;32mC:\\f102m-data\\-University\\Uni 08\\3-DS\\1-CAs\\data_science-CA2\\task-2\\task2\\currency.py:47\u001b[0m, in \u001b[0;36m_extract_exchange_rate_from_soup\u001b[1;34m(soup)\u001b[0m\n\u001b[0;32m     46\u001b[0m \u001b[38;5;28;01mif\u001b[39;00m span \u001b[38;5;129;01mis\u001b[39;00m \u001b[38;5;28;01mNone\u001b[39;00m:\n\u001b[1;32m---> 47\u001b[0m     \u001b[38;5;28;01mraise\u001b[39;00m \u001b[38;5;167;01mException\u001b[39;00m(\u001b[38;5;124m'\u001b[39m\u001b[38;5;124mNo exchange rate found by google search\u001b[39m\u001b[38;5;124m'\u001b[39m)\n\u001b[0;32m     48\u001b[0m \u001b[38;5;28;01mreturn\u001b[39;00m \u001b[38;5;28mfloat\u001b[39m(span\u001b[38;5;241m.\u001b[39mtext\u001b[38;5;241m.\u001b[39mreplace(\u001b[38;5;124m'\u001b[39m\u001b[38;5;124m,\u001b[39m\u001b[38;5;124m'\u001b[39m, \u001b[38;5;124m'\u001b[39m\u001b[38;5;124m'\u001b[39m))\n",
      "\u001b[1;31mException\u001b[0m: No exchange rate found by google search",
      "\nDuring handling of the above exception, another exception occurred:\n",
      "\u001b[1;31mException\u001b[0m                                 Traceback (most recent call last)",
      "Cell \u001b[1;32mIn[10], line 5\u001b[0m\n\u001b[0;32m      3\u001b[0m exchange_rates \u001b[38;5;241m=\u001b[39m {}\n\u001b[0;32m      4\u001b[0m \u001b[38;5;28;01mfor\u001b[39;00m currency \u001b[38;5;129;01min\u001b[39;00m filtered_df[\u001b[38;5;124m'\u001b[39m\u001b[38;5;124mSalary_Currency\u001b[39m\u001b[38;5;124m'\u001b[39m]\u001b[38;5;241m.\u001b[39munique():\n\u001b[1;32m----> 5\u001b[0m     exchange_rates[currency] \u001b[38;5;241m=\u001b[39m \u001b[43mfind_exchange_rate\u001b[49m\u001b[43m(\u001b[49m\u001b[43mcurrency\u001b[49m\u001b[43m)\u001b[49m\n",
      "File \u001b[1;32mC:\\f102m-data\\-University\\Uni 08\\3-DS\\1-CAs\\data_science-CA2\\task-2\\task2\\currency.py:23\u001b[0m, in \u001b[0;36mfind_exchange_rate\u001b[1;34m(from_currency, to_currency)\u001b[0m\n\u001b[0;32m     21\u001b[0m     usd_equivalent \u001b[38;5;241m=\u001b[39m _extract_exchange_rate_from_soup(soup)\n\u001b[0;32m     22\u001b[0m \u001b[38;5;28;01mexcept\u001b[39;00m \u001b[38;5;167;01mException\u001b[39;00m \u001b[38;5;28;01mas\u001b[39;00m e:\n\u001b[1;32m---> 23\u001b[0m     \u001b[38;5;28;01mraise\u001b[39;00m \u001b[38;5;167;01mException\u001b[39;00m(\u001b[38;5;124mf\u001b[39m\u001b[38;5;124m\"\u001b[39m\u001b[38;5;132;01m{\u001b[39;00mfrom_currency\u001b[38;5;132;01m}\u001b[39;00m\u001b[38;5;124m -> \u001b[39m\u001b[38;5;132;01m{\u001b[39;00mto_currency\u001b[38;5;132;01m}\u001b[39;00m\u001b[38;5;124m : \u001b[39m\u001b[38;5;132;01m{\u001b[39;00me\u001b[38;5;132;01m}\u001b[39;00m\u001b[38;5;124m\"\u001b[39m)\n\u001b[0;32m     25\u001b[0m dr\u001b[38;5;241m.\u001b[39mquit()\n\u001b[0;32m     26\u001b[0m \u001b[38;5;28;01mreturn\u001b[39;00m usd_equivalent\n",
      "\u001b[1;31mException\u001b[0m: cad -> usd : No exchange rate found by google search"
     ]
    }
   ],
   "source": [
    "from task2.currency import find_exchange_rate\n",
    "\n",
    "exchange_rates = {}\n",
    "for currency in filtered_df['Salary_Currency'].unique():\n",
    "    exchange_rates[currency] = find_exchange_rate(currency)"
   ]
  },
  {
   "cell_type": "code",
   "execution_count": null,
   "id": "707ae0cdc2f52d4f",
   "metadata": {
    "ExecuteTime": {
     "end_time": "2024-04-05T14:33:49.906875Z",
     "start_time": "2024-04-05T14:33:49.901572Z"
    },
    "collapsed": false,
    "jupyter": {
     "outputs_hidden": false
    }
   },
   "outputs": [],
   "source": [
    "exchange_rates"
   ]
  },
  {
   "cell_type": "code",
   "execution_count": null,
   "id": "ca7f3189934985c5",
   "metadata": {
    "ExecuteTime": {
     "end_time": "2024-04-05T14:57:39.127645Z",
     "start_time": "2024-04-05T14:57:39.078409Z"
    },
    "collapsed": false,
    "jupyter": {
     "outputs_hidden": false
    }
   },
   "outputs": [],
   "source": [
    "filtered_df.loc[:, \"Salary_IN_USD\"] = filtered_df.apply(\n",
    "    lambda entry: exchange_rates[entry['Salary_Currency']] * entry['Salary'], \n",
    "    axis=1)\n",
    "filtered_df[filtered_df['Salary_Currency'] != 'USD']"
   ]
  },
  {
   "cell_type": "code",
   "execution_count": null,
   "id": "782ecc94b9c546a0",
   "metadata": {
    "ExecuteTime": {
     "end_time": "2024-04-05T15:03:31.646579Z",
     "start_time": "2024-04-05T15:03:31.533525Z"
    },
    "collapsed": false,
    "jupyter": {
     "outputs_hidden": false
    }
   },
   "outputs": [],
   "source": [
    "plt.figure()\n",
    "filtered_df['Salary_IN_USD'].hist(bins=20, edgecolor='black')\n",
    "plt.grid(False)\n",
    "plt.show()"
   ]
  },
  {
   "cell_type": "code",
   "execution_count": null,
   "id": "f9ac44db1088eeb2",
   "metadata": {
    "collapsed": false,
    "jupyter": {
     "outputs_hidden": false
    }
   },
   "outputs": [],
   "source": []
  }
 ],
 "metadata": {
  "kernelspec": {
   "display_name": "Python 3 (ipykernel)",
   "language": "python",
   "name": "python3"
  },
  "language_info": {
   "codemirror_mode": {
    "name": "ipython",
    "version": 3
   },
   "file_extension": ".py",
   "mimetype": "text/x-python",
   "name": "python",
   "nbconvert_exporter": "python",
   "pygments_lexer": "ipython3",
   "version": "3.12.2"
  }
 },
 "nbformat": 4,
 "nbformat_minor": 5
}
